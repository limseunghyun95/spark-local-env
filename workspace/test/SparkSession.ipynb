{
 "cells": [
  {
   "cell_type": "code",
   "execution_count": null,
   "id": "435f4837-ce20-4aa2-8de9-86c6dca1f13c",
   "metadata": {},
   "outputs": [],
   "source": [
    "from pyspark.sql import SparkSession"
   ]
  },
  {
   "cell_type": "code",
   "execution_count": 9,
   "id": "4d7c51d5-c987-4e5f-8628-f654adc28987",
   "metadata": {},
   "outputs": [
    {
     "name": "stdout",
     "output_type": "stream",
     "text": [
      "<pyspark.sql.session.SparkSession object at 0x7fffe9547790>\n"
     ]
    }
   ],
   "source": [
    "spark = SparkSession.builder \\\n",
    "    .master(\"spark://spark-master:7077\") \\\n",
    "    .appName(\"SparkSession\") \\\n",
    "    .getOrCreate()\n",
    "print(spark)"
   ]
  },
  {
   "cell_type": "code",
   "execution_count": null,
   "id": "bade4846",
   "metadata": {},
   "outputs": [],
   "source": []
  },
  {
   "cell_type": "code",
   "execution_count": 10,
   "id": "2ac4c67e-e084-4e1b-85bc-9384565fe4d2",
   "metadata": {},
   "outputs": [
    {
     "name": "stdout",
     "output_type": "stream",
     "text": [
      "<pyspark.sql.session.SparkSession object at 0x7fffe9547790>\n"
     ]
    },
    {
     "name": "stderr",
     "output_type": "stream",
     "text": [
      "25/10/17 05:29:00 WARN SparkSession: Using an existing Spark session; only runtime SQL configurations will take effect.\n"
     ]
    }
   ],
   "source": [
    "# 하나 더 SparkSession을 열면\n",
    "spark2 = SparkSession.builder \\\n",
    "    .master(\"spark://spark-master:7077\") \\\n",
    "    .appName(\"SparkSession2\") \\\n",
    "    .getOrCreate()\n",
    "print(spark2)"
   ]
  },
  {
   "cell_type": "code",
   "execution_count": 13,
   "id": "e621f3f3-3e27-499b-84b2-f9925797624b",
   "metadata": {},
   "outputs": [
    {
     "name": "stderr",
     "output_type": "stream",
     "text": [
      "[Stage 0:>                                                          (0 + 1) / 1]"
     ]
    },
    {
     "name": "stdout",
     "output_type": "stream",
     "text": [
      "+-----+\n",
      "|index|\n",
      "+-----+\n",
      "|    0|\n",
      "|    1|\n",
      "|    2|\n",
      "|    3|\n",
      "|    4|\n",
      "|    5|\n",
      "|    6|\n",
      "|    7|\n",
      "|    8|\n",
      "|    9|\n",
      "|   10|\n",
      "|   11|\n",
      "|   12|\n",
      "|   13|\n",
      "|   14|\n",
      "|   15|\n",
      "|   16|\n",
      "|   17|\n",
      "|   18|\n",
      "|   19|\n",
      "+-----+\n",
      "only showing top 20 rows\n",
      "\n"
     ]
    },
    {
     "name": "stderr",
     "output_type": "stream",
     "text": [
      "                                                                                "
     ]
    }
   ],
   "source": [
    "r = spark.range(1000).toDF('index')\n",
    "r.show()"
   ]
  },
  {
   "cell_type": "code",
   "execution_count": 14,
   "id": "b00e4fc8-fd36-45a7-b5a0-813261aab65c",
   "metadata": {},
   "outputs": [
    {
     "name": "stderr",
     "output_type": "stream",
     "text": [
      "[Stage 1:>                                                          (0 + 1) / 1]"
     ]
    },
    {
     "name": "stdout",
     "output_type": "stream",
     "text": [
      "+-----+\n",
      "|index|\n",
      "+-----+\n",
      "|    0|\n",
      "|    2|\n",
      "|    4|\n",
      "|    6|\n",
      "|    8|\n",
      "|   10|\n",
      "|   12|\n",
      "|   14|\n",
      "|   16|\n",
      "|   18|\n",
      "|   20|\n",
      "|   22|\n",
      "|   24|\n",
      "|   26|\n",
      "|   28|\n",
      "|   30|\n",
      "|   32|\n",
      "|   34|\n",
      "|   36|\n",
      "|   38|\n",
      "+-----+\n",
      "only showing top 20 rows\n",
      "\n"
     ]
    },
    {
     "name": "stderr",
     "output_type": "stream",
     "text": [
      "                                                                                "
     ]
    }
   ],
   "source": [
    "new_r = r.where('index % 2 = 0')\n",
    "new_r.show()"
   ]
  },
  {
   "cell_type": "code",
   "execution_count": 8,
   "id": "db4beaa4-d376-4630-8a30-7bdb87f419c4",
   "metadata": {},
   "outputs": [],
   "source": [
    "spark.stop()\n",
    "spark2.stop()"
   ]
  }
 ],
 "metadata": {
  "kernelspec": {
   "display_name": "Python 3 (ipykernel)",
   "language": "python",
   "name": "python3"
  },
  "language_info": {
   "codemirror_mode": {
    "name": "ipython",
    "version": 3
   },
   "file_extension": ".py",
   "mimetype": "text/x-python",
   "name": "python",
   "nbconvert_exporter": "python",
   "pygments_lexer": "ipython3",
   "version": "3.8.10"
  }
 },
 "nbformat": 4,
 "nbformat_minor": 5
}
